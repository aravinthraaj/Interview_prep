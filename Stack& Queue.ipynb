{
 "cells": [
  {
   "cell_type": "code",
   "execution_count": 5,
   "metadata": {},
   "outputs": [],
   "source": [
    "# A simple class stack that only allows pop and push operations\n",
    "class Stack:\n",
    "\n",
    "    def __init__(self):\n",
    "        self.stack = []\n",
    "\n",
    "    def pop(self):\n",
    "        if len(self.stack) < 1:\n",
    "            return None\n",
    "        return self.stack.pop()\n",
    "\n",
    "    def push(self, item):\n",
    "        self.stack.append(item)\n",
    "\n",
    "    def size(self):\n",
    "        return len(self.stack)\n",
    "\n",
    "# And a queue that only has enqueue and dequeue operations\n",
    "class Queue:\n",
    "\n",
    "    def __init__(self):\n",
    "        self.queue = []\n",
    "\n",
    "    def enqueue(self, item):\n",
    "        self.queue.append(item)\n",
    "\n",
    "    def dequeue(self):\n",
    "        if len(self.queue) < 1:\n",
    "            return None\n",
    "        return self.queue.pop(0)\n",
    "\n",
    "    def size(self):\n",
    "        return len(self.queue) "
   ]
  },
  {
   "cell_type": "code",
   "execution_count": 22,
   "metadata": {},
   "outputs": [
    {
     "name": "stdout",
     "output_type": "stream",
     "text": [
      "15\n"
     ]
    }
   ],
   "source": [
    "# you can write to stdout for debugging purposes, e.g.\n",
    "# print(\"this is a debug message\")\n",
    "\n",
    "class Solution(object):\n",
    "    def __init__(self):\n",
    "        # write your code in Python 3.6\n",
    "        self.stack=[]\n",
    "        pass\n",
    "\n",
    "    def push(self, value):\n",
    "        self.stack.append(value)\n",
    "        \n",
    "    def top(self):\n",
    "        last=(len(self.stack))\n",
    "        \n",
    "        return(self.stack[last-1])\n",
    "\n",
    "    def pop(self):\n",
    "        self.stack.pop()\n",
    "        pass\n",
    "\n",
    "    def begin(self):\n",
    "        pass\n",
    "\n",
    "    def rollback(self):\n",
    "        pass\n",
    "\n",
    "    def commit(self):\n",
    "        pass\n",
    "\n",
    "\n",
    "# Define your tests here\n",
    "sol = Solution()\n",
    "sol.push(42)\n",
    "sol.push(10)\n",
    "sol.push(15)\n",
    "sol.push(106)\n",
    "sol.pop()\n",
    "t=sol.top()\n",
    "print(t)\n",
    "#assert sol.top() == 15, \"top() should be 42\"\n"
   ]
  },
  {
   "cell_type": "code",
   "execution_count": 17,
   "metadata": {},
   "outputs": [],
   "source": [
    "class Solution(object):\n",
    "    def longestUnivaluePath(self, root):\n",
    "        ans = 0\n",
    "\n",
    "        def arrow_length(node):\n",
    "            if not node: return 0\n",
    "            left_length = arrow_length(node.l)\n",
    "            right_length = arrow_length(node.r)\n",
    "            left_arrow = right_arrow = 0\n",
    "            if node.left and node.left.val == node.x:\n",
    "                left_arrow = left_length + 1\n",
    "            if node.right and node.right.val == node.x:\n",
    "                right_arrow = right_length + 1\n",
    "            ans = max(ans, left_arrow + right_arrow)\n",
    "            return max(left_arrow, right_arrow)\n",
    "\n",
    "        arrow_length(root)\n",
    "        return ans"
   ]
  },
  {
   "cell_type": "code",
   "execution_count": null,
   "metadata": {},
   "outputs": [],
   "source": [
    "(1, (2, (3, (2, None, None), None), (6, None, None)), (3, (3, None, None), (1, (5, None, None), (6, None, None))))"
   ]
  },
  {
   "cell_type": "code",
   "execution_count": null,
   "metadata": {},
   "outputs": [],
   "source": []
  }
 ],
 "metadata": {
  "kernelspec": {
   "display_name": "Python 3",
   "language": "python",
   "name": "python3"
  },
  "language_info": {
   "codemirror_mode": {
    "name": "ipython",
    "version": 3
   },
   "file_extension": ".py",
   "mimetype": "text/x-python",
   "name": "python",
   "nbconvert_exporter": "python",
   "pygments_lexer": "ipython3",
   "version": "3.7.4"
  }
 },
 "nbformat": 4,
 "nbformat_minor": 2
}

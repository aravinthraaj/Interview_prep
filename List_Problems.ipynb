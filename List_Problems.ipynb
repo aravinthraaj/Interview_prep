{
 "cells": [
  {
   "cell_type": "markdown",
   "metadata": {},
   "source": [
    "# Sorting two Sorted list \n"
   ]
  },
  {
   "cell_type": "code",
   "execution_count": 7,
   "metadata": {},
   "outputs": [
    {
     "name": "stdout",
     "output_type": "stream",
     "text": [
      "[1, 1, 2, 2, 3, 3, 4, 4, 5, 6, 7, 8, 9, 10, 50]\n"
     ]
    }
   ],
   "source": [
    "list1 = [1,2,3,4,50]\n",
    "list2 = [1,2,3,4,5,6,7,8,9,10]\n",
    "i = j = 0\n",
    "sorted_list = []\n",
    "\n",
    "while i < len(list1) and j < len(list2):\n",
    "    \n",
    "    if list1[i] < list2[j]:\n",
    "        sorted_list.append(list1[i])\n",
    "        i = i + 1\n",
    "    else:\n",
    "        sorted_list.append(list2[j])\n",
    "        j = j + 1\n",
    "\n",
    "sorted_list = sorted_list +  list2[j:] +list1[i:] \n",
    "\n",
    "print(sorted_list)"
   ]
  },
  {
   "cell_type": "markdown",
   "metadata": {},
   "source": [
    "# Sorting two unsorted list"
   ]
  },
  {
   "cell_type": "code",
   "execution_count": 6,
   "metadata": {},
   "outputs": [
    {
     "data": {
      "text/plain": [
       "[0, 1, 3, 3, 3, 3, 4, 6, 7, 7, 7, 9, 9]"
      ]
     },
     "execution_count": 6,
     "metadata": {},
     "output_type": "execute_result"
    }
   ],
   "source": [
    "\n",
    "\n",
    "def quickSort(arr, low=0, high=None):\n",
    "\n",
    "    def partition(arr, low, high):\n",
    "        i = (low - 1)\n",
    "        pivot = arr[high]\n",
    "\n",
    "        for j in range(low, high):\n",
    "            if arr[j] <= pivot:\n",
    "                i += 1\n",
    "                arr[i], arr[j] = arr[j], arr[i]\n",
    "\n",
    "        arr[i + 1], arr[high] = arr[high], arr[i + 1]\n",
    "        return i + 1\n",
    "\n",
    "    if high is None:\n",
    "        quickSort(arr, 0, len(arr) - 1)\n",
    "    elif low < high:\n",
    "        pi = partition(arr, low, high)\n",
    "\n",
    "        quickSort(arr, low, pi - 1)\n",
    "        quickSort(arr, pi + 1, high)\n",
    "\n",
    "    return arr\n",
    "\n",
    "\n",
    "list1=[7,3,9,3,1,0,3]\n",
    "list2=[6,7,9,4,7,3]\n",
    "merged_list = list1 + list2\n",
    "\n",
    "quickSort(merged_list)"
   ]
  },
  {
   "cell_type": "code",
   "execution_count": null,
   "metadata": {},
   "outputs": [],
   "source": []
  }
 ],
 "metadata": {
  "kernelspec": {
   "display_name": "Python 3",
   "language": "python",
   "name": "python3"
  },
  "language_info": {
   "codemirror_mode": {
    "name": "ipython",
    "version": 3
   },
   "file_extension": ".py",
   "mimetype": "text/x-python",
   "name": "python",
   "nbconvert_exporter": "python",
   "pygments_lexer": "ipython3",
   "version": "3.7.4"
  }
 },
 "nbformat": 4,
 "nbformat_minor": 4
}

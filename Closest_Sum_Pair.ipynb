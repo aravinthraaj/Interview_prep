{
 "cells": [
  {
   "cell_type": "code",
   "execution_count": 1,
   "metadata": {},
   "outputs": [
    {
     "data": {
      "text/plain": [
       "(3, 20)"
      ]
     },
     "execution_count": 1,
     "metadata": {},
     "output_type": "execute_result"
    }
   ],
   "source": [
    "def closest_sum_pair(a1, a2, target):\n",
    "    a1_sorted = sorted(a1)\n",
    "    a2_sorted = sorted(a2)\n",
    "    i = 0\n",
    "    j = len(a2_sorted) - 1\n",
    "    smallest_diff = abs(a1_sorted[0] + a2_sorted[0] - target)\n",
    "    closest_pair = (a1_sorted[0], a2_sorted[0])\n",
    "    while i < len(a1_sorted) and j >= 0:\n",
    "        v1 = a1_sorted[i]\n",
    "        v2 = a2_sorted[j]\n",
    "        current_diff = v1 + v2 - target\n",
    "        if abs(current_diff) < smallest_diff:\n",
    "            smallest_diff = abs(current_diff)\n",
    "            closest_pair = (v1, v2)\n",
    "\n",
    "        if current_diff == 0:\n",
    "            return closest_pair\n",
    "        elif current_diff < 0:\n",
    "            i += 1\n",
    "        else:\n",
    "            j -= 1\n",
    "    return closest_pair\n",
    "\n",
    "\n",
    "# NOTE: You can use the following values to test this function.\n",
    "a1 = [-1, 3, 8, 2, 9, 5]\n",
    "a2 = [4, 1, 2, 10, 5, 20]\n",
    "a_target = 24\n",
    "closest_sum_pair(a1, a2, a_target) "
   ]
  },
  {
   "cell_type": "code",
   "execution_count": null,
   "metadata": {},
   "outputs": [],
   "source": []
  }
 ],
 "metadata": {
  "kernelspec": {
   "display_name": "Python 3",
   "language": "python",
   "name": "python3"
  },
  "language_info": {
   "codemirror_mode": {
    "name": "ipython",
    "version": 3
   },
   "file_extension": ".py",
   "mimetype": "text/x-python",
   "name": "python",
   "nbconvert_exporter": "python",
   "pygments_lexer": "ipython3",
   "version": "3.7.4"
  }
 },
 "nbformat": 4,
 "nbformat_minor": 2
}

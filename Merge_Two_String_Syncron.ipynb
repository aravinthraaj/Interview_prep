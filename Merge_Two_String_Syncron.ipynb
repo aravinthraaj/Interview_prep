{
 "cells": [
  {
   "cell_type": "code",
   "execution_count": 3,
   "metadata": {},
   "outputs": [],
   "source": [
    "def Merge_Two(String_1, String_2):\n",
    "\n",
    "    i = 0\n",
    "    Merged_String = ''\n",
    "    temp = ''\n",
    "\n",
    "    if len(String_1) > len(String_2):\n",
    "        temp = String_1\n",
    "    else:\n",
    "        temp = String_2\n",
    "\n",
    "    for i in range(min(len(String_1), len(String_2))):\n",
    "        Merged_String = Merged_String + String_1[i] + String_2[i]\n",
    "    Merged_String = Merged_String + temp[i+1:max(len(String_1), len(String_2))]\n",
    "\n",
    "    return(Merged_String)"
   ]
  },
  {
   "cell_type": "code",
   "execution_count": 4,
   "metadata": {},
   "outputs": [
    {
     "data": {
      "text/plain": [
       "'aaaaaaaa'"
      ]
     },
     "execution_count": 4,
     "metadata": {},
     "output_type": "execute_result"
    }
   ],
   "source": [
    "a = \"aaaa\"\n",
    "b = \"aaaa\"\n",
    "\n",
    "Merge_Two(a,b)"
   ]
  },
  {
   "cell_type": "code",
   "execution_count": null,
   "metadata": {},
   "outputs": [],
   "source": []
  }
 ],
 "metadata": {
  "kernelspec": {
   "display_name": "Python 3",
   "language": "python",
   "name": "python3"
  },
  "language_info": {
   "codemirror_mode": {
    "name": "ipython",
    "version": 3
   },
   "file_extension": ".py",
   "mimetype": "text/x-python",
   "name": "python",
   "nbconvert_exporter": "python",
   "pygments_lexer": "ipython3",
   "version": "3.7.4"
  }
 },
 "nbformat": 4,
 "nbformat_minor": 2
}

{
 "cells": [
  {
   "cell_type": "code",
   "execution_count": 21,
   "metadata": {},
   "outputs": [],
   "source": [
    "\n",
    "def Count_Completed_Rows(coins):\n",
    "    for element in coins:\n",
    "\n",
    "        count=0\n",
    "        i=1\n",
    "        for i in range(1,element):\n",
    "            element=element-i\n",
    "            if element>=0:\n",
    "                count=count+1\n",
    "        print(count)\n",
    "        \n",
    "a=[5,7,9,10,6]\n",
    "Count_Completed_Rows(a)"
   ]
  },
  {
   "cell_type": "code",
   "execution_count": 22,
   "metadata": {},
   "outputs": [
    {
     "name": "stdout",
     "output_type": "stream",
     "text": [
      "2\n",
      "3\n",
      "3\n",
      "4\n",
      "3\n"
     ]
    }
   ],
   "source": [
    "a=[5,7,9,10,6]\n",
    "Count_Completed_Rows(a)"
   ]
  }
 ],
 "metadata": {
  "kernelspec": {
   "display_name": "Python 3",
   "language": "python",
   "name": "python3"
  },
  "language_info": {
   "codemirror_mode": {
    "name": "ipython",
    "version": 3
   },
   "file_extension": ".py",
   "mimetype": "text/x-python",
   "name": "python",
   "nbconvert_exporter": "python",
   "pygments_lexer": "ipython3",
   "version": "3.7.4"
  }
 },
 "nbformat": 4,
 "nbformat_minor": 2
}

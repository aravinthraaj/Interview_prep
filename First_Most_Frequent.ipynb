{
 "cells": [
  {
   "cell_type": "code",
   "execution_count": 5,
   "metadata": {},
   "outputs": [
    {
     "name": "stdout",
     "output_type": "stream",
     "text": [
      "b\n"
     ]
    }
   ],
   "source": [
    "#First most frequent value by alphabetically asked by motorola solutions\n",
    "string = \"dddbbbbbbcccaaaa\"\n",
    "array = [0]*26\n",
    "\n",
    "##returns the occurences of the character \n",
    "for i in range(len(string)):\n",
    "    array[(ord(string[i])-ord('a'))] += 1\n",
    "    \n",
    "First_frequent_value = 'a'\n",
    "Occurance = 0\n",
    "\n",
    "#Returns the first most frequent by alphabetically\n",
    "for i in range(0,25):\n",
    "    if array[i]> Occurance:\n",
    "        First_frequent_value = chr(i + ord('a'))\n",
    "        Occurance = array[i]\n",
    "print(First_frequent_value)"
   ]
  },
  {
   "cell_type": "code",
   "execution_count": null,
   "metadata": {
    "scrolled": true
   },
   "outputs": [],
   "source": []
  },
  {
   "cell_type": "code",
   "execution_count": null,
   "metadata": {},
   "outputs": [],
   "source": []
  }
 ],
 "metadata": {
  "kernelspec": {
   "display_name": "Python 3",
   "language": "python",
   "name": "python3"
  },
  "language_info": {
   "codemirror_mode": {
    "name": "ipython",
    "version": 3
   },
   "file_extension": ".py",
   "mimetype": "text/x-python",
   "name": "python",
   "nbconvert_exporter": "python",
   "pygments_lexer": "ipython3",
   "version": "3.7.4"
  }
 },
 "nbformat": 4,
 "nbformat_minor": 2
}

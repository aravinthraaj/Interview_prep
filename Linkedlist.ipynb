{
 "cells": [
  {
   "cell_type": "code",
   "execution_count": 1,
   "metadata": {},
   "outputs": [],
   "source": [
    "class Node:\n",
    "    def __init__(self, value = None):\n",
    "        self.data = value\n",
    "        self.next = None\n",
    "        \n",
    "class LinkedList:\n",
    "    def __init__(self,value = None):\n",
    "        self.head = value\n",
    "        self.length = 0\n",
    "        \n",
    "    def append(self, value):\n",
    "        newnode = Node(value)\n",
    "        current = self.head\n",
    "        if self.head:\n",
    "            while(current.next):\n",
    "                current = current.next\n",
    "            current.next = newnode\n",
    "            self.length += 1 \n",
    "        else:\n",
    "            self.head = newnode\n",
    "            self.length += 1\n",
    "    \n",
    "    def printll(self):\n",
    "        current = self.head\n",
    "        while(current):\n",
    "            print(current.data)\n",
    "            current = current.next\n",
    "            \n",
    "    def insert(self,value,position=1):\n",
    "        newnode = Node(value)\n",
    "        current = self.head\n",
    "        counter = 1\n",
    "        \n",
    "        if(position == 1):\n",
    "            current = self.head\n",
    "            self.head = newnode\n",
    "            newnode.next = current\n",
    "            self.length += 1\n",
    "            return\n",
    "        \n",
    "        while(current):\n",
    "            if(counter == position):\n",
    "                lastnode.next = newnode\n",
    "                newnode.next = current\n",
    "                self.length += 1\n",
    "                return\n",
    "            \n",
    "            lastnode = current\n",
    "            current = current.next\n",
    "            counter += 1\n",
    "            \n",
    "    def get_value(self,position):\n",
    "        counter = 1\n",
    "        current = self.head\n",
    "        while(current):\n",
    "            if(counter == position):\n",
    "                return current.data\n",
    "            current = current.next\n",
    "            counter += 1\n",
    "    \n",
    "    def delete(self,value):\n",
    "        current = self.head\n",
    "        lastnode = self.head\n",
    "        if(self.head.data == value):\n",
    "            self.head = self.head.next\n",
    "        while(current):\n",
    "            if(current.data == value):\n",
    "                lastnode.next = current.next\n",
    "            lastnode = current\n",
    "            current = current.next\n",
    "            \n",
    "    def delete_position(self,value):\n",
    "        current = self.head\n",
    "        lastnode = self.head\n",
    "        counter = 1\n",
    "        if(counter == value):\n",
    "            self.head = self.head.next\n",
    "            return\n",
    "        while(current):\n",
    "            if(counter == value):\n",
    "                lastnode.next = current.next\n",
    "                return\n",
    "            lastnode = current\n",
    "            current = current.next\n",
    "            counter +=1\n",
    "                \n",
    "                "
   ]
  },
  {
   "cell_type": "code",
   "execution_count": 2,
   "metadata": {},
   "outputs": [],
   "source": [
    "ll = LinkedList()"
   ]
  },
  {
   "cell_type": "code",
   "execution_count": 3,
   "metadata": {},
   "outputs": [],
   "source": [
    "letters = \"abcd\"\n",
    "list_LL = []"
   ]
  },
  {
   "cell_type": "code",
   "execution_count": 22,
   "metadata": {},
   "outputs": [],
   "source": [
    "for i in letters:\n",
    "    i = LinkedList()\n",
    "    list_LL.append(i)\n",
    "list_LL[0].append(1)"
   ]
  },
  {
   "cell_type": "code",
   "execution_count": 23,
   "metadata": {},
   "outputs": [
    {
     "name": "stdout",
     "output_type": "stream",
     "text": [
      "1\n"
     ]
    }
   ],
   "source": [
    "print(list_LL[0].head.data)"
   ]
  },
  {
   "cell_type": "code",
   "execution_count": 111,
   "metadata": {},
   "outputs": [],
   "source": [
    "ll.append(1)"
   ]
  },
  {
   "cell_type": "code",
   "execution_count": 112,
   "metadata": {},
   "outputs": [
    {
     "name": "stdout",
     "output_type": "stream",
     "text": [
      "1\n"
     ]
    }
   ],
   "source": [
    "ll.printll()"
   ]
  },
  {
   "cell_type": "code",
   "execution_count": 113,
   "metadata": {},
   "outputs": [],
   "source": [
    "ll.append(2)\n",
    "ll.append(3)\n",
    "ll.append(4)\n",
    "ll.append(5)\n",
    "ll.append(6)\n"
   ]
  },
  {
   "cell_type": "code",
   "execution_count": 114,
   "metadata": {},
   "outputs": [
    {
     "name": "stdout",
     "output_type": "stream",
     "text": [
      "1\n",
      "2\n",
      "3\n",
      "4\n",
      "5\n",
      "6\n"
     ]
    }
   ],
   "source": [
    "ll.printll()"
   ]
  },
  {
   "cell_type": "code",
   "execution_count": 115,
   "metadata": {},
   "outputs": [
    {
     "data": {
      "text/plain": [
       "6"
      ]
     },
     "execution_count": 115,
     "metadata": {},
     "output_type": "execute_result"
    }
   ],
   "source": [
    "ll.length"
   ]
  },
  {
   "cell_type": "code",
   "execution_count": 116,
   "metadata": {},
   "outputs": [
    {
     "name": "stdout",
     "output_type": "stream",
     "text": [
      "1\n",
      "2\n",
      "3\n",
      "4\n",
      "5\n",
      "6\n"
     ]
    }
   ],
   "source": [
    "ll.printll()"
   ]
  },
  {
   "cell_type": "code",
   "execution_count": 117,
   "metadata": {},
   "outputs": [],
   "source": [
    "ll.insert(7,5)"
   ]
  },
  {
   "cell_type": "code",
   "execution_count": 118,
   "metadata": {},
   "outputs": [
    {
     "name": "stdout",
     "output_type": "stream",
     "text": [
      "1\n",
      "2\n",
      "3\n",
      "4\n",
      "7\n",
      "5\n",
      "6\n"
     ]
    }
   ],
   "source": [
    "ll.printll()"
   ]
  },
  {
   "cell_type": "code",
   "execution_count": 119,
   "metadata": {},
   "outputs": [
    {
     "data": {
      "text/plain": [
       "7"
      ]
     },
     "execution_count": 119,
     "metadata": {},
     "output_type": "execute_result"
    }
   ],
   "source": [
    "ll.length"
   ]
  },
  {
   "cell_type": "code",
   "execution_count": 120,
   "metadata": {},
   "outputs": [],
   "source": [
    "ll.get_value(10)"
   ]
  },
  {
   "cell_type": "code",
   "execution_count": 121,
   "metadata": {},
   "outputs": [],
   "source": [
    "ll.delete(6)"
   ]
  },
  {
   "cell_type": "code",
   "execution_count": 122,
   "metadata": {},
   "outputs": [
    {
     "name": "stdout",
     "output_type": "stream",
     "text": [
      "1\n",
      "2\n",
      "3\n",
      "4\n",
      "7\n",
      "5\n"
     ]
    }
   ],
   "source": [
    "ll.printll()"
   ]
  },
  {
   "cell_type": "code",
   "execution_count": 123,
   "metadata": {},
   "outputs": [],
   "source": [
    "ll.delete(2)"
   ]
  },
  {
   "cell_type": "code",
   "execution_count": 124,
   "metadata": {},
   "outputs": [
    {
     "name": "stdout",
     "output_type": "stream",
     "text": [
      "1\n",
      "3\n",
      "4\n",
      "7\n",
      "5\n"
     ]
    }
   ],
   "source": [
    "ll.printll()"
   ]
  },
  {
   "cell_type": "code",
   "execution_count": 131,
   "metadata": {},
   "outputs": [],
   "source": [
    "ll.delete_position(1)"
   ]
  },
  {
   "cell_type": "code",
   "execution_count": 132,
   "metadata": {},
   "outputs": [
    {
     "name": "stdout",
     "output_type": "stream",
     "text": [
      "7\n"
     ]
    }
   ],
   "source": [
    "ll.printll()"
   ]
  },
  {
   "cell_type": "code",
   "execution_count": 6,
   "metadata": {},
   "outputs": [
    {
     "output_type": "stream",
     "name": "stdout",
     "text": [
      "[0, 1, 2, 3, 4]\n[1, 2, 4, 8, 16]\n"
     ]
    }
   ],
   "source": [
    "list1 = [x for x in range(5)]\n",
    "print(list1)\n",
    "list2 = list(map(lambda x:2**x,[0, 1, 2, 3, 4]))\n",
    "print(list2)"
   ]
  },
  {
   "cell_type": "code",
   "execution_count": 7,
   "metadata": {},
   "outputs": [
    {
     "output_type": "stream",
     "name": "stdout",
     "text": [
      "[0, 1, 2, 3, 4]\n[1, 2, 4, 8, 16]\n"
     ]
    }
   ],
   "source": [
    "list1=[x for x in range(5)]\n",
    "print (list1)\n",
    "list2=list(map(lambda x: 2 ** x,[0, 1, 2, 3, 4]))\n",
    "print (list2)"
   ]
  },
  {
   "cell_type": "code",
   "execution_count": null,
   "metadata": {},
   "outputs": [],
   "source": []
  }
 ],
 "metadata": {
  "kernelspec": {
   "display_name": "Python 3",
   "language": "python",
   "name": "python3"
  },
  "language_info": {
   "codemirror_mode": {
    "name": "ipython",
    "version": 3
   },
   "file_extension": ".py",
   "mimetype": "text/x-python",
   "name": "python",
   "nbconvert_exporter": "python",
   "pygments_lexer": "ipython3",
   "version": "3.6.9-final"
  }
 },
 "nbformat": 4,
 "nbformat_minor": 4
}
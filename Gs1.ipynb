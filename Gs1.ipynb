{
 "cells": [
  {
   "cell_type": "code",
   "execution_count": 52,
   "metadata": {},
   "outputs": [],
   "source": [
    "mapping=['990','332','32']\n",
    "num=[3,5,4,6,2,7,9,8,0,1]\n",
    "l=[]"
   ]
  },
  {
   "cell_type": "code",
   "execution_count": 53,
   "metadata": {},
   "outputs": [
    {
     "name": "stdout",
     "output_type": "stream",
     "text": [
      "668\n",
      "4\n",
      "4\n"
     ]
    }
   ],
   "source": [
    "for word in mapping:\n",
    "    i=0\n",
    "    for letter in word:\n",
    "        i = i + num.index(int(letter))\n",
    "        i=i*10\n",
    "        #print(letter)\n",
    "    l.append(int(i/10))\n",
    "    print(int(i/10))\n",
    "    #print(word)"
   ]
  },
  {
   "cell_type": "code",
   "execution_count": 54,
   "metadata": {},
   "outputs": [],
   "source": [
    "def fun1(mapping,num):\n",
    "    l=[]\n",
    "    k=0\n",
    "    ans={}\n",
    "    final=[]\n",
    "    for word in mapping:\n",
    "        i=0\n",
    "        \n",
    "        for letter in word:\n",
    "            i = i + num.index(int(letter))\n",
    "            i=i*10\n",
    "        i=int(i/10)\n",
    "        print(i)\n",
    "            #print(letter)\n",
    "        l.append(i)\n",
    "        ans.update({word:i})\n",
    "       \n",
    "    print(ans)\n",
    "    for i in sorted (ans) : \n",
    "        final.append(i) \n",
    "    return sorted(final)\n",
    "    "
   ]
  },
  {
   "cell_type": "code",
   "execution_count": null,
   "metadata": {},
   "outputs": [],
   "source": []
  },
  {
   "cell_type": "code",
   "execution_count": 55,
   "metadata": {},
   "outputs": [
    {
     "name": "stdout",
     "output_type": "stream",
     "text": [
      "668\n",
      "4\n",
      "4\n",
      "{'990': 668, '332': 4, '32': 4}\n",
      "['32', '332', '990']\n"
     ]
    }
   ],
   "source": [
    "t=[]\n",
    "t=fun1(mapping,num)\n",
    "print(t)"
   ]
  },
  {
   "cell_type": "code",
   "execution_count": null,
   "metadata": {},
   "outputs": [],
   "source": []
  }
 ],
 "metadata": {
  "kernelspec": {
   "display_name": "Python 3",
   "language": "python",
   "name": "python3"
  },
  "language_info": {
   "codemirror_mode": {
    "name": "ipython",
    "version": 3
   },
   "file_extension": ".py",
   "mimetype": "text/x-python",
   "name": "python",
   "nbconvert_exporter": "python",
   "pygments_lexer": "ipython3",
   "version": "3.7.4"
  }
 },
 "nbformat": 4,
 "nbformat_minor": 2
}

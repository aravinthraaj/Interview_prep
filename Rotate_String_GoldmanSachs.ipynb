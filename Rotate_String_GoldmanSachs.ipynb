{
 "cells": [
  {
   "cell_type": "code",
   "execution_count": null,
   "metadata": {},
   "outputs": [],
   "source": [
    "originalString = \"ephjos\"\n",
    "direction = [0, 1]\n",
    "amount = [4, 7]\n",
    "for i in range(len(direction)):\n",
    "\n",
    "    if (direction[i] == 0):\n",
    "        while(amount[i] != 0):\n",
    "            newString = originalString[1:len(originalString)]\n",
    "            newString = newString+originalString[0]\n",
    "            originalString = newString\n",
    "            amount[i] = amount[i]-1\n",
    "            print(originalString)\n",
    "    if (direction[i] == 1):\n",
    "        while(amount[i] != 0):\n",
    "            newString = originalString[-1]\n",
    "            newString = newString+(originalString[0:len(originalString)-1])\n",
    "            originalString = newString\n",
    "            amount[i] = amount[i]-1\n",
    "            print(originalString)\n",
    "print(originalString)\n"
   ]
  },
  {
   "cell_type": "code",
   "execution_count": null,
   "metadata": {},
   "outputs": [],
   "source": []
  }
 ],
 "metadata": {
  "kernelspec": {
   "display_name": "Python 3",
   "language": "python",
   "name": "python3"
  },
  "language_info": {
   "codemirror_mode": {
    "name": "ipython",
    "version": 3
   },
   "file_extension": ".py",
   "mimetype": "text/x-python",
   "name": "python",
   "nbconvert_exporter": "python",
   "pygments_lexer": "ipython3",
   "version": "3.7.4"
  }
 },
 "nbformat": 4,
 "nbformat_minor": 2
}

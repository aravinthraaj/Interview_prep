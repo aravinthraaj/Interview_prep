{
 "cells": [
  {
   "cell_type": "code",
   "execution_count": 1,
   "metadata": {},
   "outputs": [
    {
     "name": "stdout",
     "output_type": "stream",
     "text": [
      "[1, 1, 1, 1, 1, 2, 2, 3, 3, 4, 4, 6, 8]\n"
     ]
    }
   ],
   "source": [
    "a=[1,1,1,1,1,2,3,4]\n",
    "b=[2,3,4,6,8]\n",
    "list1=[]\n",
    "i=0\n",
    "j=0\n",
    "while(i < len(a) and j < len(b)):\n",
    "    if(a[i]<b[j]):\n",
    "        list1.append(a[i])\n",
    "        i=i+1\n",
    "    else:\n",
    "        list1.append(b[j])\n",
    "        j=j+1\n",
    "if i>=len(a):\n",
    "    while(j<len(b)):\n",
    "        list1.append(b[j])\n",
    "        j=j+1\n",
    "else:\n",
    "    while(i<len(a)):\n",
    "        list1.append(a[j])\n",
    "        j=j+1\n",
    "print(list1)"
   ]
  },
  {
   "cell_type": "code",
   "execution_count": null,
   "metadata": {},
   "outputs": [],
   "source": []
  }
 ],
 "metadata": {
  "kernelspec": {
   "display_name": "Python 3",
   "language": "python",
   "name": "python3"
  },
  "language_info": {
   "codemirror_mode": {
    "name": "ipython",
    "version": 3
   },
   "file_extension": ".py",
   "mimetype": "text/x-python",
   "name": "python",
   "nbconvert_exporter": "python",
   "pygments_lexer": "ipython3",
   "version": "3.7.4"
  }
 },
 "nbformat": 4,
 "nbformat_minor": 2
}

{
 "cells": [
  {
   "cell_type": "markdown",
   "metadata": {},
   "source": [
    "# Binary Gap"
   ]
  },
  {
   "cell_type": "code",
   "execution_count": 3,
   "metadata": {},
   "outputs": [
    {
     "data": {
      "text/plain": [
       "3"
      ]
     },
     "execution_count": 3,
     "metadata": {},
     "output_type": "execute_result"
    }
   ],
   "source": [
    "def solution(N):\n",
    "    binary = \"{0:b}\".format(N)\n",
    "    sequence = 0\n",
    "    end_s = False\n",
    "    largest_sequence = 0\n",
    "    for number in binary:\n",
    "        if number == '1':\n",
    "            if sequence > largest_sequence:\n",
    "                largest_sequence = sequence\n",
    "            sequence = 0\n",
    "            end_s = True\n",
    "        elif end_s:\n",
    "            sequence = sequence + 1\n",
    "    return largest_sequence\n",
    "\n",
    "\n",
    "solution(561892)"
   ]
  },
  {
   "cell_type": "code",
   "execution_count": null,
   "metadata": {},
   "outputs": [],
   "source": []
  }
 ],
 "metadata": {
  "kernelspec": {
   "display_name": "Python 3",
   "language": "python",
   "name": "python3"
  },
  "language_info": {
   "codemirror_mode": {
    "name": "ipython",
    "version": 3
   },
   "file_extension": ".py",
   "mimetype": "text/x-python",
   "name": "python",
   "nbconvert_exporter": "python",
   "pygments_lexer": "ipython3",
   "version": "3.7.4"
  }
 },
 "nbformat": 4,
 "nbformat_minor": 4
}
